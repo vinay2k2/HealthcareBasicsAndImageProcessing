{
  "nbformat": 4,
  "nbformat_minor": 0,
  "metadata": {
    "colab": {
      "name": "Hello.ipynb",
      "provenance": [],
      "authorship_tag": "ABX9TyOQZcAweszjCJYF8CdghAju",
      "include_colab_link": true
    },
    "kernelspec": {
      "name": "python3",
      "display_name": "Python 3"
    },
    "language_info": {
      "name": "python"
    }
  },
  "cells": [
    {
      "cell_type": "markdown",
      "metadata": {
        "id": "view-in-github",
        "colab_type": "text"
      },
      "source": [
        "<a href=\"https://colab.research.google.com/github/vinay2k2/HealthcareBasicsAndImageProcessing/blob/main/Hello.ipynb\" target=\"_parent\"><img src=\"https://colab.research.google.com/assets/colab-badge.svg\" alt=\"Open In Colab\"/></a>"
      ]
    },
    {
      "cell_type": "code",
      "execution_count": 2,
      "metadata": {
        "id": "6PXaSpMnOecP"
      },
      "outputs": [],
      "source": [
        "#Pandas: Reading Datasets of Various Forms into Dataframes\n",
        "import pandas as pd\n",
        "# Numerical Python Mathematical Operation\n",
        "import numpy as np\n"
      ]
    },
    {
      "cell_type": "markdown",
      "source": [
        ""
      ],
      "metadata": {
        "id": "z1N7KvWrgtNg"
      }
    },
    {
      "cell_type": "code",
      "source": [
        ""
      ],
      "metadata": {
        "id": "0krGgx44gdYg"
      },
      "execution_count": null,
      "outputs": []
    }
  ]
}