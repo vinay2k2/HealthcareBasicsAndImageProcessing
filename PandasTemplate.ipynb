{
  "nbformat": 4,
  "nbformat_minor": 0,
  "metadata": {
    "colab": {
      "name": "PandasTemplate.ipynb",
      "provenance": [],
      "collapsed_sections": [],
      "toc_visible": true,
      "authorship_tag": "ABX9TyPGQR4mnPdkNooFpz3b32+p",
      "include_colab_link": true
    },
    "kernelspec": {
      "name": "python3",
      "display_name": "Python 3"
    },
    "language_info": {
      "name": "python"
    }
  },
  "cells": [
    {
      "cell_type": "markdown",
      "metadata": {
        "id": "view-in-github",
        "colab_type": "text"
      },
      "source": [
        "<a href=\"https://colab.research.google.com/github/vinay2k2/HealthcareBasicsAndImageProcessing/blob/main/PandasTemplate.ipynb\" target=\"_parent\"><img src=\"https://colab.research.google.com/assets/colab-badge.svg\" alt=\"Open In Colab\"/></a>"
      ]
    },
    {
      "cell_type": "code",
      "execution_count": 1,
      "metadata": {
        "colab": {
          "base_uri": "https://localhost:8080/"
        },
        "id": "qlJLLTx5mXlD",
        "outputId": "3803c640-c289-48e0-dfee-3e03cb0f8053"
      },
      "outputs": [
        {
          "output_type": "stream",
          "name": "stdout",
          "text": [
            "Hello world!\n"
          ]
        }
      ],
      "source": [
        "import __hello__"
      ]
    },
    {
      "cell_type": "code",
      "source": [
        "# Pandas- Reading dataset of Various forms into Dataframes\n",
        "import pandas as pd\n",
        "\n",
        "# Numerical Python- Mathematical Array operations\n",
        "import numpy as np"
      ],
      "metadata": {
        "id": "lPpfI04GneDM"
      },
      "execution_count": 2,
      "outputs": []
    },
    {
      "cell_type": "code",
      "source": [
        "#Know where these packages are located\n",
        "print(pd)\n",
        "print(np)"
      ],
      "metadata": {
        "colab": {
          "base_uri": "https://localhost:8080/"
        },
        "id": "a48W0hWFn1Ml",
        "outputId": "a35fb5cc-8ff2-43d2-d4fb-bffe7dd2ec6f"
      },
      "execution_count": 4,
      "outputs": [
        {
          "output_type": "stream",
          "name": "stdout",
          "text": [
            "<module 'pandas' from '/usr/local/lib/python3.7/dist-packages/pandas/__init__.py'>\n",
            "<module 'numpy' from '/usr/local/lib/python3.7/dist-packages/numpy/__init__.py'>\n"
          ]
        }
      ]
    },
    {
      "cell_type": "markdown",
      "source": [
        "# Pandas Series\n",
        "##### Create Series type of data using various Data Structure COllection- Array, List Dictionary\n"
      ],
      "metadata": {
        "id": "6BS92hTMoJFZ"
      }
    },
    {
      "cell_type": "code",
      "source": [
        "#Lets Create a series\n",
        "data = pd.Series([10,20,30,40,50,60])\n",
        "print(data)"
      ],
      "metadata": {
        "colab": {
          "base_uri": "https://localhost:8080/"
        },
        "id": "p_2Gjm4NoX1k",
        "outputId": "4bf72822-7b42-4f9a-b78b-8361b5f345ba"
      },
      "execution_count": 6,
      "outputs": [
        {
          "output_type": "stream",
          "name": "stdout",
          "text": [
            "0    10\n",
            "1    20\n",
            "2    30\n",
            "3    40\n",
            "4    50\n",
            "5    60\n",
            "dtype: int64\n"
          ]
        }
      ]
    },
    {
      "cell_type": "code",
      "source": [
        "# Lets see the index\n",
        "data.index"
      ],
      "metadata": {
        "colab": {
          "base_uri": "https://localhost:8080/"
        },
        "id": "Rw9wHG1Kojag",
        "outputId": "1a506e8a-5ac1-4f4d-ba37-c0b464db5ebe"
      },
      "execution_count": 7,
      "outputs": [
        {
          "output_type": "execute_result",
          "data": {
            "text/plain": [
              "RangeIndex(start=0, stop=6, step=1)"
            ]
          },
          "metadata": {},
          "execution_count": 7
        }
      ]
    },
    {
      "cell_type": "code",
      "source": [
        "#Lets iterate\n",
        "for index in data.index:\n",
        "  print(index)"
      ],
      "metadata": {
        "colab": {
          "base_uri": "https://localhost:8080/"
        },
        "id": "zoY55NgNo8Zk",
        "outputId": "fcf6b4cf-d7d5-4bef-c172-6af4d2ae9e78"
      },
      "execution_count": 11,
      "outputs": [
        {
          "output_type": "stream",
          "name": "stdout",
          "text": [
            "0\n",
            "1\n",
            "2\n",
            "3\n",
            "4\n",
            "5\n"
          ]
        }
      ]
    },
    {
      "cell_type": "code",
      "source": [
        "#Lets see the values\n",
        "data.values"
      ],
      "metadata": {
        "colab": {
          "base_uri": "https://localhost:8080/"
        },
        "id": "QAKINSnGopG6",
        "outputId": "8a268d16-2097-48fd-cb42-ff2f856a9de5"
      },
      "execution_count": 8,
      "outputs": [
        {
          "output_type": "execute_result",
          "data": {
            "text/plain": [
              "array([10, 20, 30, 40, 50, 60])"
            ]
          },
          "metadata": {},
          "execution_count": 8
        }
      ]
    },
    {
      "cell_type": "code",
      "source": [
        "#Lets Iterate\n",
        "for value in data.values:\n",
        "  print(value)"
      ],
      "metadata": {
        "colab": {
          "base_uri": "https://localhost:8080/"
        },
        "id": "89J5UffdpA4j",
        "outputId": "2aae95aa-41ee-4b02-e8ea-d8437384ad4f"
      },
      "execution_count": 12,
      "outputs": [
        {
          "output_type": "stream",
          "name": "stdout",
          "text": [
            "10\n",
            "20\n",
            "30\n",
            "40\n",
            "50\n",
            "60\n"
          ]
        }
      ]
    },
    {
      "cell_type": "code",
      "source": [
        "#A better way to iterate using enumerate\n",
        "for index, value in enumerate(data):\n",
        "  print(index,\":\",value)"
      ],
      "metadata": {
        "colab": {
          "base_uri": "https://localhost:8080/"
        },
        "id": "vmlxHK8Wosr9",
        "outputId": "0109b8c0-33ba-44a3-d8ae-c6a27daa1625"
      },
      "execution_count": 10,
      "outputs": [
        {
          "output_type": "stream",
          "name": "stdout",
          "text": [
            "0 : 10\n",
            "1 : 20\n",
            "2 : 30\n",
            "3 : 40\n",
            "4 : 50\n",
            "5 : 60\n"
          ]
        }
      ]
    },
    {
      "cell_type": "code",
      "source": [
        ""
      ],
      "metadata": {
        "id": "4Y-aTU09pQQ7"
      },
      "execution_count": null,
      "outputs": []
    }
  ]
}